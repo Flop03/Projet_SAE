{
 "cells": [
  {
   "cell_type": "code",
   "execution_count": 1,
   "id": "c662a3d4",
   "metadata": {
    "scrolled": true
   },
   "outputs": [
    {
     "name": "stderr",
     "output_type": "stream",
     "text": [
      "C:\\Users\\e2200779\\AppData\\local\\Temp\\ipykernel_12752\\568132765.py:2: DeprecationWarning: Importing display from IPython.core.display is deprecated since IPython 7.14, please import from IPython.display\n",
      "  from IPython.core.display import display, HTML\n"
     ]
    },
    {
     "data": {
      "text/html": [
       "<style>.container { width:80% !important; }</style>"
      ],
      "text/plain": [
       "<IPython.core.display.HTML object>"
      ]
     },
     "metadata": {},
     "output_type": "display_data"
    }
   ],
   "source": [
    "# pour changer la largeur de la page htlm générée par Jupyter :\n",
    "from IPython.core.display import display, HTML\n",
    "display(HTML(\"<style>.container { width:80% !important; }</style>\"))"
   ]
  },
  {
   "cell_type": "markdown",
   "id": "f6eff43d",
   "metadata": {},
   "source": [
    "# TP : Exploration et Analyse de Données avec Pandas et Streamlit\n",
    "\n",
    "## Objectif\n",
    "\n",
    "Ce projet vise à développer vos compétences en manipulation et analyse de données à l'aide de la bibliothèque Pandas en Python. Vous apprendrez à :\n",
    "\n",
    "- Importer et explorer des données provenant de Kaggle.\n",
    "- Effectuer des requêtes et manipulations de type SQL avec Pandas.\n",
    "- Créer des visualisations interactives avec Streamlit.\n",
    "\n",
    "Ce projet est noté. Tous les codes devront être écrits en Python dans des champs *jupyter* et devront respecter les conventions de nommage. L'énoncé **ne doit pas être modifié**.\n",
    "\n",
    "La derniere séance du projet, vous déposerez le fichier jupyter (projetSAE.ipynb) sur la plateforme pédagogique.\n"
   ]
  },
  {
   "cell_type": "markdown",
   "id": "3109e372",
   "metadata": {},
   "source": [
    "##### Procédure à réaliser avant les séances de TD (nous utiliserons désormais jupyter lab)\n",
    "- Lancer Anaconda Prompt sous Windows\n",
    "- Saisissez dans Anaconda Prompt : \n",
    "conda create -n projet python pandas numpy matplotlib jupyterlab kagglehub seaborn streamlit plotly\n",
    "\n",
    "=> à la demande \"Proceed ([y]/n)?\" saisissez y (ou juste pressez sur la touche \"entrée\")\n",
    "=> \"Executing transaction\" prend du temps, c'est normal\n",
    "Saisissez dans Anaconda Prompt : \n",
    "conda activate projet\n",
    "\n",
    "##### Saisissez dans Anaconda Prompt : \n",
    "jupyter lab --notebook-dir=\"h:/\"\n",
    "Ouvrir projetSAE.ipynb dans Jupyter"
   ]
  },
  {
   "cell_type": "code",
   "execution_count": 10,
   "id": "5a1b3f02",
   "metadata": {},
   "outputs": [],
   "source": [
    "%matplotlib notebook\n",
    "%matplotlib inline\n",
    "import os\n",
    "import shutil\n",
    "import pandas as pd\n",
    "import numpy as np\n",
    "import matplotlib.pyplot as plt\n",
    "\n",
    "import seaborn as sns\n",
    "import streamlit as st"
   ]
  },
  {
   "cell_type": "markdown",
   "id": "d57dab67",
   "metadata": {},
   "source": [
    "### Partie 1 : importation et exploration des données"
   ]
  },
  {
   "cell_type": "markdown",
   "id": "33235b70",
   "metadata": {},
   "source": [
    "#### Travailler avec Git\n",
    "1 - En utilisant le prompt conda : initialiser le projet \n",
    "\n",
    "2 - Ajouter le fichier Jupyter Notebook et faite votre premier commit \n",
    " \n",
    "3 -  Creer un projet sur github dépôt distant (sans README.md )\n",
    "\n",
    "4 - Pousser le projet vers ce dépôt \n",
    "\n",
    "5 - Enlever les checkpoint de jupyter "
   ]
  },
  {
   "cell_type": "markdown",
   "id": "8b18bb17",
   "metadata": {},
   "source": [
    "#### Questions\n",
    "1. Téléchargez le Dataset **Data Science Salaries 2023** sur Kaggle (https://www.kaggle.com/datasets/) via **kagglehub**.\n",
    "2. Copier le fichier du cache au répertoire du projet, décompresser et visualiser le fichier CSV **ds_salaries.csv**\n",
    "3. Importez le fichiers CSV avec Pandas."
   ]
  },
  {
   "cell_type": "markdown",
   "id": "b01f9ad7",
   "metadata": {},
   "source": [
    "##### Votre code"
   ]
  },
  {
   "cell_type": "code",
   "execution_count": 11,
   "id": "e40dcb97-302b-4532-93a8-ed03da73c828",
   "metadata": {},
   "outputs": [
    {
     "name": "stdout",
     "output_type": "stream",
     "text": [
      "Warning: Looks like you're using an outdated `kagglehub` version, please consider updating (latest version: 0.3.6)\n",
      "Path to dataset files: C:\\Users\\e2200779\\.cache\\kagglehub\\datasets\\arnabchaki\\data-science-salaries-2023\\versions\\1\n"
     ]
    }
   ],
   "source": [
    "import kagglehub\n",
    "\n",
    "# Download latest version\n",
    "path = kagglehub.dataset_download(\"arnabchaki/data-science-salaries-2023\")\n",
    "\n",
    "print(\"Path to dataset files:\", path)"
   ]
  },
  {
   "cell_type": "markdown",
   "id": "a3c026f0",
   "metadata": {},
   "source": [
    "##### Une bonne pratique \n",
    "- Copier les données téléchargées et les coller dans le répertoire du projet.\n",
    "Pour cela, utilisez la bibliothéque os et shutil"
   ]
  },
  {
   "cell_type": "code",
   "execution_count": 12,
   "id": "ff8da337",
   "metadata": {},
   "outputs": [
    {
     "data": {
      "text/plain": [
       "'h:\\\\Mes documents\\\\SD3\\\\S6\\\\SAE 6-01\\\\projet_SAE\\\\ds_salaries.csv'"
      ]
     },
     "execution_count": 12,
     "metadata": {},
     "output_type": "execute_result"
    }
   ],
   "source": [
    "# Répertoire cible dans votre projet\n",
    "project_dir = r\"h:\\Mes documents\\SD3\\S6\\SAE 6-01\\projet_SAE\"\n",
    "\n",
    "# Créer le répertoire (si nécessaire)\n",
    "os.makedirs(project_dir, exist_ok=True)\n",
    "\n",
    "# Copier le fichier depuis le cache au répertoire du projet\n",
    "cache_file = r\"C:\\Users\\e2200779\\.cache\\kagglehub\\datasets\\arnabchaki\\data-science-salaries-2023\\versions\\1\\ds_salaries.csv\"\n",
    "shutil.copy(cache_file, project_dir)"
   ]
  },
  {
   "cell_type": "code",
   "execution_count": 13,
   "id": "c150ef82",
   "metadata": {},
   "outputs": [
    {
     "data": {
      "text/html": [
       "<div>\n",
       "<style scoped>\n",
       "    .dataframe tbody tr th:only-of-type {\n",
       "        vertical-align: middle;\n",
       "    }\n",
       "\n",
       "    .dataframe tbody tr th {\n",
       "        vertical-align: top;\n",
       "    }\n",
       "\n",
       "    .dataframe thead th {\n",
       "        text-align: right;\n",
       "    }\n",
       "</style>\n",
       "<table border=\"1\" class=\"dataframe\">\n",
       "  <thead>\n",
       "    <tr style=\"text-align: right;\">\n",
       "      <th></th>\n",
       "      <th>work_year</th>\n",
       "      <th>experience_level</th>\n",
       "      <th>employment_type</th>\n",
       "      <th>job_title</th>\n",
       "      <th>salary</th>\n",
       "      <th>salary_currency</th>\n",
       "      <th>salary_in_usd</th>\n",
       "      <th>employee_residence</th>\n",
       "      <th>remote_ratio</th>\n",
       "      <th>company_location</th>\n",
       "      <th>company_size</th>\n",
       "    </tr>\n",
       "  </thead>\n",
       "  <tbody>\n",
       "    <tr>\n",
       "      <th>0</th>\n",
       "      <td>2023</td>\n",
       "      <td>SE</td>\n",
       "      <td>FT</td>\n",
       "      <td>Principal Data Scientist</td>\n",
       "      <td>80000</td>\n",
       "      <td>EUR</td>\n",
       "      <td>85847</td>\n",
       "      <td>ES</td>\n",
       "      <td>100</td>\n",
       "      <td>ES</td>\n",
       "      <td>L</td>\n",
       "    </tr>\n",
       "    <tr>\n",
       "      <th>1</th>\n",
       "      <td>2023</td>\n",
       "      <td>MI</td>\n",
       "      <td>CT</td>\n",
       "      <td>ML Engineer</td>\n",
       "      <td>30000</td>\n",
       "      <td>USD</td>\n",
       "      <td>30000</td>\n",
       "      <td>US</td>\n",
       "      <td>100</td>\n",
       "      <td>US</td>\n",
       "      <td>S</td>\n",
       "    </tr>\n",
       "    <tr>\n",
       "      <th>2</th>\n",
       "      <td>2023</td>\n",
       "      <td>MI</td>\n",
       "      <td>CT</td>\n",
       "      <td>ML Engineer</td>\n",
       "      <td>25500</td>\n",
       "      <td>USD</td>\n",
       "      <td>25500</td>\n",
       "      <td>US</td>\n",
       "      <td>100</td>\n",
       "      <td>US</td>\n",
       "      <td>S</td>\n",
       "    </tr>\n",
       "    <tr>\n",
       "      <th>3</th>\n",
       "      <td>2023</td>\n",
       "      <td>SE</td>\n",
       "      <td>FT</td>\n",
       "      <td>Data Scientist</td>\n",
       "      <td>175000</td>\n",
       "      <td>USD</td>\n",
       "      <td>175000</td>\n",
       "      <td>CA</td>\n",
       "      <td>100</td>\n",
       "      <td>CA</td>\n",
       "      <td>M</td>\n",
       "    </tr>\n",
       "    <tr>\n",
       "      <th>4</th>\n",
       "      <td>2023</td>\n",
       "      <td>SE</td>\n",
       "      <td>FT</td>\n",
       "      <td>Data Scientist</td>\n",
       "      <td>120000</td>\n",
       "      <td>USD</td>\n",
       "      <td>120000</td>\n",
       "      <td>CA</td>\n",
       "      <td>100</td>\n",
       "      <td>CA</td>\n",
       "      <td>M</td>\n",
       "    </tr>\n",
       "    <tr>\n",
       "      <th>...</th>\n",
       "      <td>...</td>\n",
       "      <td>...</td>\n",
       "      <td>...</td>\n",
       "      <td>...</td>\n",
       "      <td>...</td>\n",
       "      <td>...</td>\n",
       "      <td>...</td>\n",
       "      <td>...</td>\n",
       "      <td>...</td>\n",
       "      <td>...</td>\n",
       "      <td>...</td>\n",
       "    </tr>\n",
       "    <tr>\n",
       "      <th>3750</th>\n",
       "      <td>2020</td>\n",
       "      <td>SE</td>\n",
       "      <td>FT</td>\n",
       "      <td>Data Scientist</td>\n",
       "      <td>412000</td>\n",
       "      <td>USD</td>\n",
       "      <td>412000</td>\n",
       "      <td>US</td>\n",
       "      <td>100</td>\n",
       "      <td>US</td>\n",
       "      <td>L</td>\n",
       "    </tr>\n",
       "    <tr>\n",
       "      <th>3751</th>\n",
       "      <td>2021</td>\n",
       "      <td>MI</td>\n",
       "      <td>FT</td>\n",
       "      <td>Principal Data Scientist</td>\n",
       "      <td>151000</td>\n",
       "      <td>USD</td>\n",
       "      <td>151000</td>\n",
       "      <td>US</td>\n",
       "      <td>100</td>\n",
       "      <td>US</td>\n",
       "      <td>L</td>\n",
       "    </tr>\n",
       "    <tr>\n",
       "      <th>3752</th>\n",
       "      <td>2020</td>\n",
       "      <td>EN</td>\n",
       "      <td>FT</td>\n",
       "      <td>Data Scientist</td>\n",
       "      <td>105000</td>\n",
       "      <td>USD</td>\n",
       "      <td>105000</td>\n",
       "      <td>US</td>\n",
       "      <td>100</td>\n",
       "      <td>US</td>\n",
       "      <td>S</td>\n",
       "    </tr>\n",
       "    <tr>\n",
       "      <th>3753</th>\n",
       "      <td>2020</td>\n",
       "      <td>EN</td>\n",
       "      <td>CT</td>\n",
       "      <td>Business Data Analyst</td>\n",
       "      <td>100000</td>\n",
       "      <td>USD</td>\n",
       "      <td>100000</td>\n",
       "      <td>US</td>\n",
       "      <td>100</td>\n",
       "      <td>US</td>\n",
       "      <td>L</td>\n",
       "    </tr>\n",
       "    <tr>\n",
       "      <th>3754</th>\n",
       "      <td>2021</td>\n",
       "      <td>SE</td>\n",
       "      <td>FT</td>\n",
       "      <td>Data Science Manager</td>\n",
       "      <td>7000000</td>\n",
       "      <td>INR</td>\n",
       "      <td>94665</td>\n",
       "      <td>IN</td>\n",
       "      <td>50</td>\n",
       "      <td>IN</td>\n",
       "      <td>L</td>\n",
       "    </tr>\n",
       "  </tbody>\n",
       "</table>\n",
       "<p>3755 rows × 11 columns</p>\n",
       "</div>"
      ],
      "text/plain": [
       "      work_year experience_level employment_type                 job_title  \\\n",
       "0          2023               SE              FT  Principal Data Scientist   \n",
       "1          2023               MI              CT               ML Engineer   \n",
       "2          2023               MI              CT               ML Engineer   \n",
       "3          2023               SE              FT            Data Scientist   \n",
       "4          2023               SE              FT            Data Scientist   \n",
       "...         ...              ...             ...                       ...   \n",
       "3750       2020               SE              FT            Data Scientist   \n",
       "3751       2021               MI              FT  Principal Data Scientist   \n",
       "3752       2020               EN              FT            Data Scientist   \n",
       "3753       2020               EN              CT     Business Data Analyst   \n",
       "3754       2021               SE              FT      Data Science Manager   \n",
       "\n",
       "       salary salary_currency  salary_in_usd employee_residence  remote_ratio  \\\n",
       "0       80000             EUR          85847                 ES           100   \n",
       "1       30000             USD          30000                 US           100   \n",
       "2       25500             USD          25500                 US           100   \n",
       "3      175000             USD         175000                 CA           100   \n",
       "4      120000             USD         120000                 CA           100   \n",
       "...       ...             ...            ...                ...           ...   \n",
       "3750   412000             USD         412000                 US           100   \n",
       "3751   151000             USD         151000                 US           100   \n",
       "3752   105000             USD         105000                 US           100   \n",
       "3753   100000             USD         100000                 US           100   \n",
       "3754  7000000             INR          94665                 IN            50   \n",
       "\n",
       "     company_location company_size  \n",
       "0                  ES            L  \n",
       "1                  US            S  \n",
       "2                  US            S  \n",
       "3                  CA            M  \n",
       "4                  CA            M  \n",
       "...               ...          ...  \n",
       "3750               US            L  \n",
       "3751               US            L  \n",
       "3752               US            S  \n",
       "3753               US            L  \n",
       "3754               IN            L  \n",
       "\n",
       "[3755 rows x 11 columns]"
      ]
     },
     "execution_count": 13,
     "metadata": {},
     "output_type": "execute_result"
    }
   ],
   "source": [
    "# Lire le fichier depuis le répertoire du projet\n",
    "data = pd.read_csv(\"ds_salaries.csv\")\n",
    "data"
   ]
  },
  {
   "cell_type": "markdown",
   "id": "6beae70c",
   "metadata": {},
   "source": [
    "### Partie 2 : Analyses exploratoires"
   ]
  },
  {
   "cell_type": "markdown",
   "id": "2e561960",
   "metadata": {},
   "source": [
    "#### Question 1 :\n",
    "Nous Souhaitons :\n",
    "\n",
    "1. Connaitre est ce qu'il y a des données manquantes dans notre dataset.\n",
    "2. Voir la distribution des salaires en USD avec la bibliothèque seaborn sous fome d'histogramme\n",
    "3. avoir la liste des pays concerné par l'étude \n",
    "4. connaitre les salaire moyen par rôle, par pays, par niveau d'expérience"
   ]
  },
  {
   "cell_type": "markdown",
   "id": "e3d1bfbe",
   "metadata": {},
   "source": [
    "#### Votre code"
   ]
  },
  {
   "cell_type": "code",
   "execution_count": 14,
   "id": "d25ef4a6",
   "metadata": {},
   "outputs": [
    {
     "name": "stdout",
     "output_type": "stream",
     "text": [
      "work_year             0\n",
      "experience_level      0\n",
      "employment_type       0\n",
      "job_title             0\n",
      "salary                0\n",
      "salary_currency       0\n",
      "salary_in_usd         0\n",
      "employee_residence    0\n",
      "remote_ratio          0\n",
      "company_location      0\n",
      "company_size          0\n",
      "dtype: int64\n"
     ]
    }
   ],
   "source": [
    "##### Données manquantes \n",
    "print(data.isnull().sum())"
   ]
  },
  {
   "cell_type": "code",
   "execution_count": 15,
   "id": "1be28b55",
   "metadata": {},
   "outputs": [
    {
     "data": {
      "image/png": "[encoded data removed]",
      "text/plain": [
       "<Figure size 640x480 with 1 Axes>"
      ]
     },
     "metadata": {},
     "output_type": "display_data"
    }
   ],
   "source": [
    "##### Distribution des salaires en USD\n",
    "sns.histplot(data, x=\"salary_in_usd\", kde=True)\n",
    "plt.show()"
   ]
  },
  {
   "cell_type": "code",
   "execution_count": 18,
   "id": "59ab1534",
   "metadata": {},
   "outputs": [
    {
     "name": "stdout",
     "output_type": "stream",
     "text": [
      "['ES' 'US' 'CA' 'DE' 'GB' 'NG' 'IN' 'HK' 'NL' 'CH' 'CF' 'FR' 'FI' 'UA'\n",
      " 'IE' 'IL' 'GH' 'CO' 'SG' 'AU' 'SE' 'SI' 'MX' 'BR' 'PT' 'RU' 'TH' 'HR'\n",
      " 'VN' 'EE' 'AM' 'BA' 'KE' 'GR' 'MK' 'LV' 'RO' 'PK' 'IT' 'MA' 'PL' 'AL'\n",
      " 'AR' 'LT' 'AS' 'CR' 'IR' 'BS' 'HU' 'AT' 'SK' 'CZ' 'TR' 'PR' 'DK' 'BO'\n",
      " 'PH' 'BE' 'ID' 'EG' 'AE' 'LU' 'MY' 'HN' 'JP' 'DZ' 'IQ' 'CN' 'NZ' 'CL'\n",
      " 'MD' 'MT']\n"
     ]
    }
   ],
   "source": [
    "##### liste des pays concerné par l'étude \n",
    "print(data.company_location.unique())     "
   ]
  },
  {
   "cell_type": "code",
   "execution_count": 21,
   "id": "fa1ccca8",
   "metadata": {},
   "outputs": [
    {
     "name": "stdout",
     "output_type": "stream",
     "text": [
      "job_title\n",
      "3D Computer Vision Researcher     21352.250000\n",
      "AI Developer                     136666.090909\n",
      "AI Programmer                     55000.000000\n",
      "AI Scientist                     110120.875000\n",
      "Analytics Engineer               152368.631068\n",
      "                                     ...      \n",
      "Research Engineer                163108.378378\n",
      "Research Scientist               161214.195122\n",
      "Software Data Engineer            62510.000000\n",
      "Staff Data Analyst                15000.000000\n",
      "Staff Data Scientist             105000.000000\n",
      "Name: salary_in_usd, Length: 93, dtype: float64\n",
      "employee_residence\n",
      "AE    100000.000000\n",
      "AM     50000.000000\n",
      "AR     35500.000000\n",
      "AS     32777.500000\n",
      "AT     71125.833333\n",
      "          ...      \n",
      "TR     19058.000000\n",
      "UA     57850.000000\n",
      "US    152822.011651\n",
      "UZ    103000.000000\n",
      "VN     33466.666667\n",
      "Name: salary_in_usd, Length: 78, dtype: float64\n",
      "experience_level\n",
      "EN     78546.284375\n",
      "EX    194930.929825\n",
      "MI    104525.939130\n",
      "SE    153051.071542\n",
      "Name: salary_in_usd, dtype: float64\n"
     ]
    }
   ],
   "source": [
    "# Salaire moyen par rôle\n",
    "print(data.groupby(\"job_title\")[\"salary_in_usd\"].mean())\n",
    "\n",
    "##### Salaire moyen par pays\n",
    "print(data.groupby(\"employee_residence\")[\"salary_in_usd\"].mean())\n",
    "\n",
    "##### Salaire moyen par niveau d'expérience\n",
    "print(data.groupby(\"experience_level\")[\"salary_in_usd\"].mean())\n",
    "\n"
   ]
  },
  {
   "cell_type": "markdown",
   "id": "5fed3aef",
   "metadata": {},
   "source": [
    "#### Question 2 :\n",
    "Nous Souhaitons :\n",
    "\n",
    "1. Filtrer les salaires pour un pays donné (ex : US)\n",
    "2. Connaitre les top 5 des entreprises qui paient le plus\n",
    "\n",
    "3. Filtrage et agrégation:\n",
    "    - Afficher tous les employés dont le salaire est supérieur à 100 000 USD, ainsi que leur rôle.\n",
    "    - Pays avec la plus forte proportion de télétravail (remote_ratio = 100)\n",
    "       \n",
    "4. Requêtes conditionnelles: \n",
    "    - Salaire moyen des employés à distance (100%)\n",
    "    - Comparer salaires moyens pour deux catégories\n",
    "        \n",
    "5. Ajouter une colonne pour les fourchettes de salaires\n",
    "6. Corrélations : Relation entre télétravail et salaire: \n",
    " -\n",
    "7. Salaire moyen par taille d'entreprise \n",
    "8. faire un tableau croisé : Moyenne des salaires par niveau d'expérience et télétravail"
   ]
  },
  {
   "cell_type": "code",
   "execution_count": 23,
   "id": "057e12e8",
   "metadata": {},
   "outputs": [
    {
     "name": "stdout",
     "output_type": "stream",
     "text": [
      "      work_year experience_level employment_type                 job_title  \\\n",
      "1          2023               MI              CT               ML Engineer   \n",
      "2          2023               MI              CT               ML Engineer   \n",
      "5          2023               SE              FT         Applied Scientist   \n",
      "6          2023               SE              FT         Applied Scientist   \n",
      "9          2023               SE              FT            Data Scientist   \n",
      "...         ...              ...             ...                       ...   \n",
      "3749       2021               SE              FT           Data Specialist   \n",
      "3750       2020               SE              FT            Data Scientist   \n",
      "3751       2021               MI              FT  Principal Data Scientist   \n",
      "3752       2020               EN              FT            Data Scientist   \n",
      "3753       2020               EN              CT     Business Data Analyst   \n",
      "\n",
      "      salary salary_currency  salary_in_usd employee_residence  remote_ratio  \\\n",
      "1      30000             USD          30000                 US           100   \n",
      "2      25500             USD          25500                 US           100   \n",
      "5     222200             USD         222200                 US             0   \n",
      "6     136000             USD         136000                 US             0   \n",
      "9     147100             USD         147100                 US             0   \n",
      "...      ...             ...            ...                ...           ...   \n",
      "3749  165000             USD         165000                 US           100   \n",
      "3750  412000             USD         412000                 US           100   \n",
      "3751  151000             USD         151000                 US           100   \n",
      "3752  105000             USD         105000                 US           100   \n",
      "3753  100000             USD         100000                 US           100   \n",
      "\n",
      "     company_location company_size  \n",
      "1                  US            S  \n",
      "2                  US            S  \n",
      "5                  US            L  \n",
      "6                  US            L  \n",
      "9                  US            M  \n",
      "...               ...          ...  \n",
      "3749               US            L  \n",
      "3750               US            L  \n",
      "3751               US            L  \n",
      "3752               US            S  \n",
      "3753               US            L  \n",
      "\n",
      "[3004 rows x 11 columns]\n"
     ]
    }
   ],
   "source": [
    "##### Filtrer les salaires pour un pays donné (ex : US)\n",
    "salaries_us = data[data[\"employee_residence\"] == \"US\"]\n",
    "print(salaries_us)"
   ]
  },
  {
   "cell_type": "code",
   "execution_count": 25,
   "id": "6be2ec47",
   "metadata": {},
   "outputs": [
    {
     "name": "stdout",
     "output_type": "stream",
     "text": [
      "company_location\n",
      "IL    271446.500000\n",
      "PR    167500.000000\n",
      "US    151822.009539\n",
      "RU    140333.333333\n",
      "CA    131917.689655\n",
      "Name: salary_in_usd, dtype: float64\n"
     ]
    }
   ],
   "source": [
    "##### Top 5 des entreprises qui paient le plus\n",
    "top_companies = (\n",
    "    data.groupby(\"company_location\")[\"salary_in_usd\"]\n",
    "    .mean()\n",
    "    .sort_values(ascending=False)\n",
    "    .head(5)\n",
    ")\n",
    "\n",
    "print(top_companies)\n"
   ]
  },
  {
   "cell_type": "code",
   "execution_count": 27,
   "id": "10d4d3d4",
   "metadata": {},
   "outputs": [
    {
     "name": "stdout",
     "output_type": "stream",
     "text": [
      "job_title\n",
      "AI Developer                                136666.090909\n",
      "AI Scientist                                110120.875000\n",
      "Analytics Engineer                          152368.631068\n",
      "Applied Data Scientist                      113726.300000\n",
      "Applied Machine Learning Scientist          109452.833333\n",
      "Applied Scientist                           190264.482759\n",
      "BI Analyst                                  104888.888889\n",
      "BI Developer                                129846.153846\n",
      "Big Data Architect                          125802.500000\n",
      "Business Intelligence Engineer              174150.000000\n",
      "Cloud Data Architect                        250000.000000\n",
      "Cloud Database Engineer                     155000.000000\n",
      "Computer Vision Engineer                    143536.111111\n",
      "Data Analyst                                108716.227124\n",
      "Data Analytics Lead                         211254.500000\n",
      "Data Analytics Manager                      141879.090909\n",
      "Data Architect                              161713.772277\n",
      "Data Engineer                               142785.734615\n",
      "Data Infrastructure Engineer                175051.666667\n",
      "Data Lead                                   212500.000000\n",
      "Data Manager                                116613.344828\n",
      "Data Modeler                                118900.000000\n",
      "Data Science Lead                           156334.375000\n",
      "Data Science Manager                        191278.775862\n",
      "Data Science Tech Lead                      375000.000000\n",
      "Data Scientist                              140869.765476\n",
      "Data Scientist Lead                         136153.000000\n",
      "Data Specialist                             119642.857143\n",
      "Deep Learning Engineer                      109241.000000\n",
      "Deep Learning Researcher                    123405.000000\n",
      "Director of Data Science                    195140.727273\n",
      "ETL Developer                               131453.600000\n",
      "Financial Data Analyst                      101666.666667\n",
      "Head of Data                                183857.500000\n",
      "Head of Data Science                        160591.666667\n",
      "Lead Data Engineer                          139230.333333\n",
      "Lead Data Scientist                         112775.555556\n",
      "ML Engineer                                 158352.441176\n",
      "MLOps Engineer                              129000.000000\n",
      "Machine Learning Engineer                   154690.726644\n",
      "Machine Learning Infrastructure Engineer    143011.818182\n",
      "Machine Learning Manager                    155701.333333\n",
      "Machine Learning Researcher                 105872.666667\n",
      "Machine Learning Scientist                  163220.076923\n",
      "Machine Learning Software Engineer          192420.000000\n",
      "Manager Data Management                     125000.000000\n",
      "Marketing Data Analyst                      144327.000000\n",
      "NLP Engineer                                132785.285714\n",
      "Principal Data Analyst                      122500.000000\n",
      "Principal Data Engineer                     192500.000000\n",
      "Principal Data Scientist                    198171.125000\n",
      "Principal Machine Learning Engineer         190000.000000\n",
      "Research Engineer                           163108.378378\n",
      "Research Scientist                          161214.195122\n",
      "Staff Data Scientist                        105000.000000\n",
      "Name: salary_in_usd, dtype: float64\n",
      "Le pays avec la plus forte proportion de télétravail est : AR avec une proportion de 100.00%\n"
     ]
    }
   ],
   "source": [
    "##### Rôles avec un salaire moyen supérieur à 100,000\n",
    "\n",
    "# Calculer le salaire moyen par rôle\n",
    "roles_salary = data.groupby(\"job_title\")[\"salary_in_usd\"].mean()\n",
    "\n",
    "# Filtrer les rôles dont le salaire moyen est supérieur à 100,000 USD\n",
    "roles_above_100k = roles_salary[roles_salary > 100000]\n",
    "print(roles_above_100k)\n",
    "\n",
    "##### Pays avec la plus forte proportion de télétravail (remote_ratio = 100)\n",
    "\n",
    "# Filtrer les employés travaillant à distance à 100%\n",
    "remote_work = data[data[\"remote_ratio\"] == 100]\n",
    "\n",
    "# Calculer la proportion de télétravail par pays\n",
    "remote_work_by_country = remote_work[\"employee_residence\"].value_counts()\n",
    "\n",
    "# Calculer le nombre total d'employés par pays\n",
    "total_employees_by_country = data[\"employee_residence\"].value_counts()\n",
    "\n",
    "# Calculer la proportion de télétravail pour chaque pays\n",
    "remote_proportion_by_country = remote_work_by_country / total_employees_by_country\n",
    "\n",
    "# Trouver le pays avec la plus forte proportion de télétravail\n",
    "top_remote_country = remote_proportion_by_country.idxmax()\n",
    "top_remote_proportion = remote_proportion_by_country.max()\n",
    "\n",
    "print(f\"Le pays avec la plus forte proportion de télétravail est : {top_remote_country} avec une proportion de {top_remote_proportion:.2%}\")\n"
   ]
  },
  {
   "cell_type": "code",
   "execution_count": 28,
   "id": "3d3e19de",
   "metadata": {},
   "outputs": [
    {
     "name": "stdout",
     "output_type": "stream",
     "text": [
      "Salaire moyen des employés à distance (100%) : 136481.45 USD\n",
      "Salaire moyen des employés à distance (100%) : 136481.45 USD\n",
      "Salaire moyen des employés sans télétravail à 100% : 138417.51 USD\n"
     ]
    }
   ],
   "source": [
    "##### Requêtes conditionnelles\n",
    "##### Salaire moyen des employés à distance (100%)\n",
    "\n",
    "# Filtrer les employés travaillant à distance à 100%\n",
    "remote_employees = data[data[\"remote_ratio\"] == 100]\n",
    "\n",
    "# Calculer le salaire moyen des employés à distance\n",
    "average_salary_remote = remote_employees[\"salary_in_usd\"].mean()\n",
    "print(f\"Salaire moyen des employés à distance (100%) : {average_salary_remote:.2f} USD\")\n",
    "\n",
    "###### Comparer salaires moyens pour deux catégories\n",
    "\n",
    "# Comparer les salaires moyens pour les employés à distance et ceux sans télétravail à 100%\n",
    "remote_employees_100 = data[data[\"remote_ratio\"] == 100]\n",
    "remote_employees_less_than_100 = data[data[\"remote_ratio\"] < 100]\n",
    "\n",
    "# Calculer les salaires moyens\n",
    "average_salary_remote_100 = remote_employees_100[\"salary_in_usd\"].mean()\n",
    "average_salary_remote_less_than_100 = remote_employees_less_than_100[\"salary_in_usd\"].mean()\n",
    "\n",
    "print(f\"Salaire moyen des employés à distance (100%) : {average_salary_remote_100:.2f} USD\")\n",
    "print(f\"Salaire moyen des employés sans télétravail à 100% : {average_salary_remote_less_than_100:.2f} USD\")\n",
    "\n"
   ]
  },
  {
   "cell_type": "code",
   "execution_count": 29,
   "id": "7d72271b",
   "metadata": {},
   "outputs": [
    {
     "name": "stdout",
     "output_type": "stream",
     "text": [
      "                  job_title  salary_in_usd           salary_range\n",
      "0  Principal Data Scientist          85847   50 000 - 100 000 USD\n",
      "1               ML Engineer          30000    Moins de 50 000 USD\n",
      "2               ML Engineer          25500    Moins de 50 000 USD\n",
      "3            Data Scientist         175000    Plus de 150 000 USD\n",
      "4            Data Scientist         120000  100 000 - 150 000 USD\n"
     ]
    }
   ],
   "source": [
    "##### Ajouter une colonne pour les fourchettes de salaires\n",
    "\n",
    "# Définir des bornes pour les fourchettes de salaires\n",
    "bins = [0, 50000, 100000, 150000, float('inf')]  # Les limites des fourchettes\n",
    "labels = ['Moins de 50 000 USD', '50 000 - 100 000 USD', '100 000 - 150 000 USD', 'Plus de 150 000 USD']  # Les étiquettes des fourchettes\n",
    "\n",
    "# Ajouter une colonne \"salary_range\" en utilisant pd.cut\n",
    "data[\"salary_range\"] = pd.cut(data[\"salary_in_usd\"], bins=bins, labels=labels, right=False)\n",
    "\n",
    "# Afficher les premières lignes pour vérifier\n",
    "print(data[[\"job_title\", \"salary_in_usd\", \"salary_range\"]].head())\n",
    "\n"
   ]
  },
  {
   "cell_type": "code",
   "execution_count": 33,
   "id": "08ebd32f",
   "metadata": {},
   "outputs": [
    {
     "name": "stdout",
     "output_type": "stream",
     "text": [
      "Corrélation entre télétravail et salaire :\n",
      "               remote_ratio  salary_in_usd\n",
      "remote_ratio       1.000000      -0.064171\n",
      "salary_in_usd     -0.064171       1.000000\n",
      "\n",
      "la corrélation est proche de 0, cela signifie qu'il n'y a pas de relation linéaire entre les deux.\n"
     ]
    }
   ],
   "source": [
    "##### Analyse des corrélations\n",
    "##### Relation entre télétravail et salaire\n",
    "\n",
    "# Calculer la corrélation entre remote_ratio et salary_in_usd\n",
    "correlation = data[[\"remote_ratio\", \"salary_in_usd\"]].corr()\n",
    "\n",
    "print(\"Corrélation entre télétravail et salaire :\")\n",
    "print(correlation)\n",
    "print(\"\")\n",
    "print(\"la corrélation est proche de 0, cela signifie qu'il n'y a pas de relation linéaire entre les deux.\")"
   ]
  },
  {
   "cell_type": "code",
   "execution_count": 34,
   "id": "a024d154",
   "metadata": {},
   "outputs": [
    {
     "name": "stdout",
     "output_type": "stream",
     "text": [
      "company_size\n",
      "L    118300.982379\n",
      "M    143130.548367\n",
      "S     78226.682432\n",
      "Name: salary_in_usd, dtype: float64\n"
     ]
    }
   ],
   "source": [
    "##### Salaire moyen par taille d'entreprise\n",
    "\n",
    "# Calculer le salaire moyen par taille d'entreprise\n",
    "salary_by_company_size = data.groupby(\"company_size\")[\"salary_in_usd\"].mean()\n",
    "\n",
    "# Afficher les résultats\n",
    "print(salary_by_company_size)\n"
   ]
  },
  {
   "cell_type": "code",
   "execution_count": 35,
   "id": "b167d883",
   "metadata": {},
   "outputs": [
    {
     "name": "stdout",
     "output_type": "stream",
     "text": [
      "Tableau croisé des salaires par niveau d'expérience et télétravail :\n",
      "remote_ratio                0              50             100\n",
      "experience_level                                             \n",
      "EN                104581.765766   64006.230769   65040.486111\n",
      "EX                182435.785714  139030.166667  214837.326923\n",
      "MI                116723.103535   74214.405405   96803.480597\n",
      "SE                154024.064706   98438.136364  154022.023381\n"
     ]
    }
   ],
   "source": [
    "##### Tableaux croisés\n",
    "##### Moyenne des salaires par niveau d'expérience et télétravail\n",
    "\n",
    "# Créer un tableau croisé des salaires par niveau d'expérience et télétravail\n",
    "pivot_table = data.pivot_table(\n",
    "    index='experience_level',  # Niveau d'expérience\n",
    "    columns='remote_ratio',    # Proportion de télétravail\n",
    "    values='salary_in_usd',    # Les valeurs sont les salaires\n",
    "    aggfunc='mean'             # Calculer la moyenne des salaires\n",
    ")\n",
    "\n",
    "# Afficher le tableau croisé\n",
    "print(\"Tableau croisé des salaires par niveau d'expérience et télétravail :\")\n",
    "print(pivot_table)\n"
   ]
  }
 ],
 "metadata": {
  "kernelspec": {
   "display_name": "Python 3 (ipykernel)",
   "language": "python",
   "name": "python3"
  },
  "language_info": {
   "codemirror_mode": {
    "name": "ipython",
    "version": 3
   },
   "file_extension": ".py",
   "mimetype": "text/x-python",
   "name": "python",
   "nbconvert_exporter": "python",
   "pygments_lexer": "ipython3",
   "version": "3.11.7"
  }
 },
 "nbformat": 4,
 "nbformat_minor": 5
}
